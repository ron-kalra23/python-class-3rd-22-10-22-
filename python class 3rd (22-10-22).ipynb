{
 "cells": [
  {
   "cell_type": "markdown",
   "id": "a9ae955a",
   "metadata": {},
   "source": [
    "# tuple\n",
    "tuple are not editable like list they are not mutable. so to edit a tuple data structure we must have to change it into a list"
   ]
  },
  {
   "cell_type": "code",
   "execution_count": 3,
   "id": "6cc31752",
   "metadata": {},
   "outputs": [],
   "source": [
    "work_location = ('bengaluru' , 'noida' , 'chennai' , 'sirsa ') \n",
    "#let's try to edit a tuple \n",
    "#it will show us error\n"
   ]
  },
  {
   "cell_type": "code",
   "execution_count": 4,
   "id": "0680de01",
   "metadata": {},
   "outputs": [
    {
     "ename": "AttributeError",
     "evalue": "'tuple' object has no attribute 'append'",
     "output_type": "error",
     "traceback": [
      "\u001b[1;31m---------------------------------------------------------------------------\u001b[0m",
      "\u001b[1;31mAttributeError\u001b[0m                            Traceback (most recent call last)",
      "\u001b[1;32m~\\AppData\\Local\\Temp\\ipykernel_9636\\3332182237.py\u001b[0m in \u001b[0;36m<module>\u001b[1;34m\u001b[0m\n\u001b[1;32m----> 1\u001b[1;33m \u001b[0mwork_location\u001b[0m\u001b[1;33m.\u001b[0m\u001b[0mappend\u001b[0m\u001b[1;33m(\u001b[0m\u001b[1;34m'bhiwani'\u001b[0m\u001b[1;33m)\u001b[0m\u001b[1;33m\u001b[0m\u001b[1;33m\u001b[0m\u001b[0m\n\u001b[0m",
      "\u001b[1;31mAttributeError\u001b[0m: 'tuple' object has no attribute 'append'"
     ]
    }
   ],
   "source": [
    "work_location.append('bhiwani')"
   ]
  },
  {
   "cell_type": "code",
   "execution_count": 5,
   "id": "ee85742b",
   "metadata": {},
   "outputs": [],
   "source": [
    "#to bring changes in tuple we have to change tuple into a list \n",
    "work_location = list(work_location)"
   ]
  },
  {
   "cell_type": "code",
   "execution_count": 6,
   "id": "f7fa652c",
   "metadata": {},
   "outputs": [
    {
     "data": {
      "text/plain": [
       "list"
      ]
     },
     "execution_count": 6,
     "metadata": {},
     "output_type": "execute_result"
    }
   ],
   "source": [
    "type(work_location)"
   ]
  },
  {
   "cell_type": "code",
   "execution_count": 7,
   "id": "021b4bc8",
   "metadata": {},
   "outputs": [
    {
     "data": {
      "text/plain": [
       "['bengaluru', 'noida', 'chennai', 'sirsa ']"
      ]
     },
     "execution_count": 7,
     "metadata": {},
     "output_type": "execute_result"
    }
   ],
   "source": [
    "work_location"
   ]
  },
  {
   "cell_type": "code",
   "execution_count": 8,
   "id": "03c173e5",
   "metadata": {},
   "outputs": [],
   "source": [
    "#now add some more cities into the list AND again make it a tuple\n",
    "work_location.extend(['gurugram','hisar'])"
   ]
  },
  {
   "cell_type": "code",
   "execution_count": 9,
   "id": "9dd9c707",
   "metadata": {},
   "outputs": [
    {
     "data": {
      "text/plain": [
       "['bengaluru', 'noida', 'chennai', 'sirsa ', 'gurugram', 'hisar']"
      ]
     },
     "execution_count": 9,
     "metadata": {},
     "output_type": "execute_result"
    }
   ],
   "source": [
    "work_location"
   ]
  },
  {
   "cell_type": "code",
   "execution_count": 10,
   "id": "3aeb8106",
   "metadata": {},
   "outputs": [],
   "source": [
    "#now change into tuple\n",
    "work_location = tuple(work_location)"
   ]
  },
  {
   "cell_type": "code",
   "execution_count": 11,
   "id": "bb85cd5f",
   "metadata": {},
   "outputs": [
    {
     "data": {
      "text/plain": [
       "tuple"
      ]
     },
     "execution_count": 11,
     "metadata": {},
     "output_type": "execute_result"
    }
   ],
   "source": [
    "type(work_location)"
   ]
  },
  {
   "cell_type": "code",
   "execution_count": 13,
   "id": "54eaab42",
   "metadata": {},
   "outputs": [],
   "source": [
    "#whereas we can get any information of tuple's data  (only of index and counting)\n",
    "numbers = (11,23,43,54,33,23,11,76,67,88,76,88,)"
   ]
  },
  {
   "cell_type": "code",
   "execution_count": 15,
   "id": "5f7430f9",
   "metadata": {},
   "outputs": [
    {
     "data": {
      "text/plain": [
       "0"
      ]
     },
     "execution_count": 15,
     "metadata": {},
     "output_type": "execute_result"
    }
   ],
   "source": [
    "numbers.index(11)"
   ]
  },
  {
   "cell_type": "code",
   "execution_count": 17,
   "id": "ba0577a6",
   "metadata": {},
   "outputs": [
    {
     "data": {
      "text/plain": [
       "2"
      ]
     },
     "execution_count": 17,
     "metadata": {},
     "output_type": "execute_result"
    }
   ],
   "source": [
    "numbers.count(23)"
   ]
  },
  {
   "cell_type": "markdown",
   "id": "23f4d8c7",
   "metadata": {},
   "source": [
    "# set"
   ]
  },
  {
   "cell_type": "code",
   "execution_count": 18,
   "id": "0abc701c",
   "metadata": {},
   "outputs": [],
   "source": [
    "#how to make set \n",
    "roll_no = set()"
   ]
  },
  {
   "cell_type": "code",
   "execution_count": 19,
   "id": "972a2168",
   "metadata": {},
   "outputs": [
    {
     "data": {
      "text/plain": [
       "set()"
      ]
     },
     "execution_count": 19,
     "metadata": {},
     "output_type": "execute_result"
    }
   ],
   "source": [
    "roll_no"
   ]
  },
  {
   "cell_type": "code",
   "execution_count": 20,
   "id": "64497253",
   "metadata": {},
   "outputs": [],
   "source": [
    "roll_no.add(1)"
   ]
  },
  {
   "cell_type": "code",
   "execution_count": 21,
   "id": "45bfbd21",
   "metadata": {},
   "outputs": [
    {
     "data": {
      "text/plain": [
       "{1}"
      ]
     },
     "execution_count": 21,
     "metadata": {},
     "output_type": "execute_result"
    }
   ],
   "source": [
    "roll_no"
   ]
  },
  {
   "cell_type": "code",
   "execution_count": 22,
   "id": "6437809b",
   "metadata": {},
   "outputs": [],
   "source": [
    "#set are in cursive bracket\n",
    "roll_no.add(2)"
   ]
  },
  {
   "cell_type": "code",
   "execution_count": 23,
   "id": "829282d3",
   "metadata": {},
   "outputs": [
    {
     "data": {
      "text/plain": [
       "{1, 2}"
      ]
     },
     "execution_count": 23,
     "metadata": {},
     "output_type": "execute_result"
    }
   ],
   "source": [
    "roll_no"
   ]
  },
  {
   "cell_type": "code",
   "execution_count": 24,
   "id": "d495c5dd",
   "metadata": {},
   "outputs": [],
   "source": [
    "#we can add data one by one in set\n",
    "#if we want to remove duplicate data from list just convert it into set.\n",
    "#set keeps unique values.\n",
    "m = [1,2,3,4,5,4,3,2,6,7,8,6,5,6,7,8,9,]"
   ]
  },
  {
   "cell_type": "code",
   "execution_count": 25,
   "id": "be99dcbf",
   "metadata": {},
   "outputs": [],
   "source": [
    "#set_name = set(list_name)"
   ]
  },
  {
   "cell_type": "code",
   "execution_count": 26,
   "id": "19951e79",
   "metadata": {},
   "outputs": [],
   "source": [
    "s = set(m)"
   ]
  },
  {
   "cell_type": "code",
   "execution_count": 27,
   "id": "ebec3180",
   "metadata": {},
   "outputs": [
    {
     "data": {
      "text/plain": [
       "[1, 2, 3, 4, 5, 4, 3, 2, 6, 7, 8, 6, 5, 6, 7, 8, 9]"
      ]
     },
     "execution_count": 27,
     "metadata": {},
     "output_type": "execute_result"
    }
   ],
   "source": [
    "m"
   ]
  },
  {
   "cell_type": "code",
   "execution_count": 28,
   "id": "f5ace5f1",
   "metadata": {},
   "outputs": [
    {
     "data": {
      "text/plain": [
       "{1, 2, 3, 4, 5, 6, 7, 8, 9}"
      ]
     },
     "execution_count": 28,
     "metadata": {},
     "output_type": "execute_result"
    }
   ],
   "source": [
    "s"
   ]
  },
  {
   "cell_type": "markdown",
   "id": "394fa6ab",
   "metadata": {},
   "source": [
    "# dictionories"
   ]
  },
  {
   "cell_type": "raw",
   "id": "ce55e881",
   "metadata": {},
   "source": [
    "# list=[]\n",
    "#tuple = ()\n",
    "# dictionary = {}"
   ]
  },
  {
   "cell_type": "raw",
   "id": "8d0af29f",
   "metadata": {},
   "source": [
    " list = ['rashi','sham',sheena,rohan,aalam]\n",
    " marks =[12,23,33,44,5,55]"
   ]
  },
  {
   "cell_type": "raw",
   "id": "43fd3a80",
   "metadata": {},
   "source": [
    "here column name like list and marks will be treated as keys and name and marks(int) will be treated as values.\n",
    "key = name, marks\n",
    "value = 23,33,rashi,sham\n"
   ]
  },
  {
   "cell_type": "raw",
   "id": "ad7390c1",
   "metadata": {},
   "source": [
    "name           salary                       #name and salary are the keys and their values a,b,c,d,12000,13000etc all are value\n",
    "a               120000                       we assign to key\n",
    "b              130000\n",
    "c              140000\n",
    "d              200000"
   ]
  },
  {
   "cell_type": "code",
   "execution_count": 30,
   "id": "d115668b",
   "metadata": {},
   "outputs": [],
   "source": [
    "my_dict = {'name':['a','v','c'], 'salary': [10,20,20]}"
   ]
  },
  {
   "cell_type": "code",
   "execution_count": 31,
   "id": "68ec0ddd",
   "metadata": {},
   "outputs": [],
   "source": [
    "my_dict = {'key':'value1','key2': 'value2'}"
   ]
  },
  {
   "cell_type": "code",
   "execution_count": 32,
   "id": "be5ea51b",
   "metadata": {},
   "outputs": [
    {
     "data": {
      "text/plain": [
       "'value2'"
      ]
     },
     "execution_count": 32,
     "metadata": {},
     "output_type": "execute_result"
    }
   ],
   "source": [
    "#call value by their key\n",
    "my_dict['key2']"
   ]
  },
  {
   "cell_type": "code",
   "execution_count": 33,
   "id": "4b15cfb2",
   "metadata": {},
   "outputs": [],
   "source": [
    "my_dict = {'roll_no':123,'marks':[10,20,30], 'subject':['english','science','socials']}"
   ]
  },
  {
   "cell_type": "code",
   "execution_count": 34,
   "id": "1f07db47",
   "metadata": {},
   "outputs": [
    {
     "data": {
      "text/plain": [
       "['english', 'science', 'socials']"
      ]
     },
     "execution_count": 34,
     "metadata": {},
     "output_type": "execute_result"
    }
   ],
   "source": [
    "#if we have one value we don't need to pass it as list but if there are more than one item we need to pass it as  a list\n",
    "#my_dict(subject) it will show error [subject ] will be the right syntax.\n",
    "my_dict['subject']\n",
    "\n"
   ]
  },
  {
   "cell_type": "code",
   "execution_count": 35,
   "id": "3830edd2",
   "metadata": {},
   "outputs": [
    {
     "data": {
      "text/plain": [
       "'science'"
      ]
     },
     "execution_count": 35,
     "metadata": {},
     "output_type": "execute_result"
    }
   ],
   "source": [
    "my_dict['subject'][1]"
   ]
  },
  {
   "cell_type": "code",
   "execution_count": 36,
   "id": "1db229e5",
   "metadata": {},
   "outputs": [
    {
     "data": {
      "text/plain": [
       "10"
      ]
     },
     "execution_count": 36,
     "metadata": {},
     "output_type": "execute_result"
    }
   ],
   "source": [
    "my_dict['marks'][0]"
   ]
  },
  {
   "cell_type": "code",
   "execution_count": 37,
   "id": "90597a7d",
   "metadata": {},
   "outputs": [
    {
     "data": {
      "text/plain": [
       "'ENGLISH'"
      ]
     },
     "execution_count": 37,
     "metadata": {},
     "output_type": "execute_result"
    }
   ],
   "source": [
    "#change in upper case \n",
    "my_dict['subject'][0].upper()"
   ]
  },
  {
   "cell_type": "code",
   "execution_count": 38,
   "id": "24891e4c",
   "metadata": {},
   "outputs": [
    {
     "data": {
      "text/plain": [
       "'english'"
      ]
     },
     "execution_count": 38,
     "metadata": {},
     "output_type": "execute_result"
    }
   ],
   "source": [
    "#change in lower case\n",
    "my_dict['subject'][0].lower()"
   ]
  },
  {
   "cell_type": "code",
   "execution_count": 39,
   "id": "4c7d230e",
   "metadata": {},
   "outputs": [
    {
     "data": {
      "text/plain": [
       "'english'"
      ]
     },
     "execution_count": 39,
     "metadata": {},
     "output_type": "execute_result"
    }
   ],
   "source": [
    "my_dict['subject'][0]"
   ]
  },
  {
   "cell_type": "code",
   "execution_count": 40,
   "id": "b00951d9",
   "metadata": {},
   "outputs": [],
   "source": [
    "#update any value in dictionary \n",
    "my_dict['marks'][0] = my_dict['marks'][0] +30\n"
   ]
  },
  {
   "cell_type": "code",
   "execution_count": 41,
   "id": "2aff4859",
   "metadata": {},
   "outputs": [
    {
     "data": {
      "text/plain": [
       "40"
      ]
     },
     "execution_count": 41,
     "metadata": {},
     "output_type": "execute_result"
    }
   ],
   "source": [
    "my_dict['marks'][0]"
   ]
  },
  {
   "cell_type": "code",
   "execution_count": 43,
   "id": "faf6dbd6",
   "metadata": {},
   "outputs": [],
   "source": [
    "#another method of editing\n",
    "my_dict['marks'][2] +=2"
   ]
  },
  {
   "cell_type": "code",
   "execution_count": 44,
   "id": "a43eb7b3",
   "metadata": {},
   "outputs": [
    {
     "data": {
      "text/plain": [
       "32"
      ]
     },
     "execution_count": 44,
     "metadata": {},
     "output_type": "execute_result"
    }
   ],
   "source": [
    "my_dict['marks'][2]"
   ]
  },
  {
   "cell_type": "code",
   "execution_count": 45,
   "id": "f7467dc2",
   "metadata": {},
   "outputs": [
    {
     "data": {
      "text/plain": [
       "[40, 20, 32]"
      ]
     },
     "execution_count": 45,
     "metadata": {},
     "output_type": "execute_result"
    }
   ],
   "source": [
    "my_dict['marks']"
   ]
  },
  {
   "cell_type": "code",
   "execution_count": 46,
   "id": "e73b366c",
   "metadata": {},
   "outputs": [],
   "source": [
    "my_dict['marks'][0] -=10"
   ]
  },
  {
   "cell_type": "code",
   "execution_count": 48,
   "id": "d1d42838",
   "metadata": {},
   "outputs": [
    {
     "data": {
      "text/plain": [
       "[30, 20, 32]"
      ]
     },
     "execution_count": 48,
     "metadata": {},
     "output_type": "execute_result"
    }
   ],
   "source": [
    "my_dict['marks']"
   ]
  },
  {
   "cell_type": "raw",
   "id": "ffb91629",
   "metadata": {},
   "source": [
    "#add new key"
   ]
  },
  {
   "cell_type": "code",
   "execution_count": 49,
   "id": "4342f8d7",
   "metadata": {},
   "outputs": [],
   "source": [
    "my_dict['year'] = '3rd'"
   ]
  },
  {
   "cell_type": "code",
   "execution_count": 50,
   "id": "5d73b63a",
   "metadata": {},
   "outputs": [
    {
     "data": {
      "text/plain": [
       "{'roll_no': 123,\n",
       " 'marks': [30, 20, 32],\n",
       " 'subject': ['english', 'science', 'socials'],\n",
       " 'year': '3rd'}"
      ]
     },
     "execution_count": 50,
     "metadata": {},
     "output_type": "execute_result"
    }
   ],
   "source": [
    "my_dict"
   ]
  },
  {
   "cell_type": "code",
   "execution_count": 52,
   "id": "ac7d94cb",
   "metadata": {},
   "outputs": [],
   "source": [
    "#update values\n",
    "my_dict.update({'roll_no':100})"
   ]
  },
  {
   "cell_type": "code",
   "execution_count": 53,
   "id": "c9499a82",
   "metadata": {},
   "outputs": [
    {
     "data": {
      "text/plain": [
       "{'roll_no': 100,\n",
       " 'marks': [30, 20, 32],\n",
       " 'subject': ['english', 'science', 'socials'],\n",
       " 'year': '3rd'}"
      ]
     },
     "execution_count": 53,
     "metadata": {},
     "output_type": "execute_result"
    }
   ],
   "source": [
    "my_dict"
   ]
  },
  {
   "cell_type": "code",
   "execution_count": 54,
   "id": "d13981c7",
   "metadata": {},
   "outputs": [
    {
     "data": {
      "text/plain": [
       "dict_keys(['roll_no', 'marks', 'subject', 'year'])"
      ]
     },
     "execution_count": 54,
     "metadata": {},
     "output_type": "execute_result"
    }
   ],
   "source": [
    "my_dict.keys()      #to know all the keys"
   ]
  },
  {
   "cell_type": "code",
   "execution_count": 56,
   "id": "c0ae15f2",
   "metadata": {},
   "outputs": [
    {
     "data": {
      "text/plain": [
       "dict_values([100, [30, 20, 32], ['english', 'science', 'socials'], '3rd'])"
      ]
     },
     "execution_count": 56,
     "metadata": {},
     "output_type": "execute_result"
    }
   ],
   "source": [
    "my_dict.values()     #to know all the values"
   ]
  },
  {
   "cell_type": "code",
   "execution_count": 57,
   "id": "774a4b7b",
   "metadata": {},
   "outputs": [],
   "source": [
    "#to know all keys and values"
   ]
  },
  {
   "cell_type": "code",
   "execution_count": 58,
   "id": "22bdc5cf",
   "metadata": {},
   "outputs": [
    {
     "data": {
      "text/plain": [
       "dict_items([('roll_no', 100), ('marks', [30, 20, 32]), ('subject', ['english', 'science', 'socials']), ('year', '3rd')])"
      ]
     },
     "execution_count": 58,
     "metadata": {},
     "output_type": "execute_result"
    }
   ],
   "source": [
    "my_dict.items()"
   ]
  },
  {
   "cell_type": "markdown",
   "id": "8f87038f",
   "metadata": {},
   "source": [
    "# branching = else , if , elif"
   ]
  },
  {
   "cell_type": "code",
   "execution_count": 59,
   "id": "536ccc8f",
   "metadata": {},
   "outputs": [
    {
     "name": "stdout",
     "output_type": "stream",
     "text": [
      "its not true\n"
     ]
    }
   ],
   "source": [
    "i = 9 \n",
    "\n",
    "if i >10:\n",
    "    print('i is greater than 10')\n",
    "else:\n",
    "    print('its not true')"
   ]
  },
  {
   "cell_type": "code",
   "execution_count": 60,
   "id": "f11d59ee",
   "metadata": {},
   "outputs": [
    {
     "name": "stdout",
     "output_type": "stream",
     "text": [
      "it is less than 10\n"
     ]
    }
   ],
   "source": [
    "#another method\n",
    "print('it is less than 10') if i <10 else print('thats not true')"
   ]
  },
  {
   "cell_type": "code",
   "execution_count": 64,
   "id": "0573aabd",
   "metadata": {},
   "outputs": [
    {
     "name": "stdout",
     "output_type": "stream",
     "text": [
      "please add 50 rs to get free shipping\n"
     ]
    }
   ],
   "source": [
    "#free shipping message\n",
    "item_1 = 200\n",
    "item_2 = 250\n",
    "if (item_1 + item_2 ) >=500:\n",
    "    print('your item is eligible for free shipping')\n",
    "else:\n",
    "    extra = 500 - (item_1 + item_2)\n",
    "    print('please add' , extra ,'rs to get free shipping')\n"
   ]
  },
  {
   "cell_type": "raw",
   "id": "7112ab4e",
   "metadata": {},
   "source": [
    "we can add or change items value to change result"
   ]
  },
  {
   "cell_type": "code",
   "execution_count": 65,
   "id": "4b747dc3",
   "metadata": {},
   "outputs": [
    {
     "name": "stdout",
     "output_type": "stream",
     "text": [
      "thats not true\n"
     ]
    }
   ],
   "source": [
    "a = 200\n",
    "b = 33\n",
    "c = 250 \n",
    "if a>b and b>c:                 #True and False = false\n",
    "    print('a and b both are greater than c')\n",
    "else:\n",
    "    print('thats not true')"
   ]
  },
  {
   "cell_type": "code",
   "execution_count": 66,
   "id": "5b620109",
   "metadata": {},
   "outputs": [
    {
     "name": "stdout",
     "output_type": "stream",
     "text": [
      "a and b both are greater than c\n"
     ]
    }
   ],
   "source": [
    "a = 200\n",
    "b = 33\n",
    "c = 250 \n",
    "if a>b or b>c:                 #True or False = true\n",
    "    print('a and b both are greater than c')\n",
    "else:\n",
    "    print('thats not true')"
   ]
  },
  {
   "cell_type": "code",
   "execution_count": 71,
   "id": "89ddc68a",
   "metadata": {},
   "outputs": [
    {
     "name": "stdout",
     "output_type": "stream",
     "text": [
      "30 failed\n"
     ]
    }
   ],
   "source": [
    "#student level\n",
    "marks = 30 \n",
    "if marks >=60:                 #here the if in if is called nested if \n",
    "    if marks >70:\n",
    "        print(marks , 'excellent')\n",
    "elif marks >50 and marks <60:\n",
    "    print(marks,'good')\n",
    "elif marks>=35:\n",
    "            print (marks, 'pass')\n",
    "else:\n",
    "    print (marks , 'failed')"
   ]
  },
  {
   "cell_type": "code",
   "execution_count": 72,
   "id": "cee66ffe",
   "metadata": {},
   "outputs": [
    {
     "name": "stdout",
     "output_type": "stream",
     "text": [
      "88 excellent\n"
     ]
    }
   ],
   "source": [
    "marks = 88\n",
    "if marks >=60:                 #here the if in if is called nested if \n",
    "    if marks >70:\n",
    "        print(marks , 'excellent')\n",
    "elif marks >50 and marks <60:\n",
    "    print(marks,'good')\n",
    "elif marks>=35:\n",
    "            print (marks, 'pass')\n",
    "else:\n",
    "    print (marks , 'failed')"
   ]
  },
  {
   "cell_type": "code",
   "execution_count": 74,
   "id": "27685a2d",
   "metadata": {},
   "outputs": [
    {
     "name": "stdout",
     "output_type": "stream",
     "text": [
      "num_2 is great\n"
     ]
    }
   ],
   "source": [
    "num_1 = 20 \n",
    "num_2 = 30\n",
    "if num_1 == '20':        #here '20' is string so it gets wrong\n",
    "    print('num_1 is great')\n",
    "elif num_2 >23:\n",
    "    print('num_2 is great')\n",
    "    \n"
   ]
  },
  {
   "cell_type": "markdown",
   "id": "6925b7c4",
   "metadata": {},
   "source": [
    "# RANGE:"
   ]
  },
  {
   "cell_type": "code",
   "execution_count": 75,
   "id": "2b45321c",
   "metadata": {},
   "outputs": [
    {
     "name": "stdout",
     "output_type": "stream",
     "text": [
      "range(0, 10)\n"
     ]
    }
   ],
   "source": [
    "print(range(10))    #this will consider the start no as 0 and stop no as 10"
   ]
  },
  {
   "cell_type": "raw",
   "id": "eb2c0c26",
   "metadata": {},
   "source": [
    "range(start no , stop no)"
   ]
  },
  {
   "cell_type": "code",
   "execution_count": 82,
   "id": "d8e48b4d",
   "metadata": {},
   "outputs": [
    {
     "name": "stdout",
     "output_type": "stream",
     "text": [
      "[0, 1, 2, 3, 4, 5, 6, 7, 8, 9]\n"
     ]
    }
   ],
   "source": [
    "print(list(range(10)))     #here 10 will be executed to include 10 we must add range 11"
   ]
  },
  {
   "cell_type": "code",
   "execution_count": 83,
   "id": "a6bf3d05",
   "metadata": {},
   "outputs": [],
   "source": [
    "roll_no = list(range(1 , 9)) #starting point = 1\n",
    "                             #ending point = 9-1 = 8"
   ]
  },
  {
   "cell_type": "code",
   "execution_count": 84,
   "id": "5d5a9e19",
   "metadata": {},
   "outputs": [
    {
     "data": {
      "text/plain": [
       "[1, 2, 3, 4, 5, 6, 7, 8]"
      ]
     },
     "execution_count": 84,
     "metadata": {},
     "output_type": "execute_result"
    }
   ],
   "source": [
    "roll_no"
   ]
  },
  {
   "cell_type": "raw",
   "id": "5421d7e4",
   "metadata": {},
   "source": [
    "step size of range\n",
    "step_size = list(range(0,30,3)  #here 3 = stepsize  , diff of 3 will occur due to stepsize 3\n",
    "                                  0 = starting point \n",
    "                                 30-1 = 29 = ending point"
   ]
  },
  {
   "cell_type": "code",
   "execution_count": 85,
   "id": "2edbd765",
   "metadata": {},
   "outputs": [],
   "source": [
    "step_size = list(range(0,30,3))"
   ]
  },
  {
   "cell_type": "code",
   "execution_count": 86,
   "id": "b81ca1be",
   "metadata": {},
   "outputs": [
    {
     "data": {
      "text/plain": [
       "[0, 3, 6, 9, 12, 15, 18, 21, 24, 27]"
      ]
     },
     "execution_count": 86,
     "metadata": {},
     "output_type": "execute_result"
    }
   ],
   "source": [
    "step_size"
   ]
  },
  {
   "cell_type": "code",
   "execution_count": 87,
   "id": "ce2eedef",
   "metadata": {},
   "outputs": [],
   "source": [
    "inc_by_hund = list(range(0,1601,100))"
   ]
  },
  {
   "cell_type": "code",
   "execution_count": 88,
   "id": "0cfd91a1",
   "metadata": {},
   "outputs": [
    {
     "data": {
      "text/plain": [
       "[0,\n",
       " 100,\n",
       " 200,\n",
       " 300,\n",
       " 400,\n",
       " 500,\n",
       " 600,\n",
       " 700,\n",
       " 800,\n",
       " 900,\n",
       " 1000,\n",
       " 1100,\n",
       " 1200,\n",
       " 1300,\n",
       " 1400,\n",
       " 1500,\n",
       " 1600]"
      ]
     },
     "execution_count": 88,
     "metadata": {},
     "output_type": "execute_result"
    }
   ],
   "source": [
    "inc_by_hund"
   ]
  },
  {
   "cell_type": "markdown",
   "id": "5148ed4f",
   "metadata": {},
   "source": [
    "# reverse range list"
   ]
  },
  {
   "cell_type": "code",
   "execution_count": 89,
   "id": "9e0812c3",
   "metadata": {},
   "outputs": [],
   "source": [
    "reverse = list(range(1600,-1,-100))"
   ]
  },
  {
   "cell_type": "code",
   "execution_count": 90,
   "id": "88b98951",
   "metadata": {},
   "outputs": [
    {
     "data": {
      "text/plain": [
       "[1600,\n",
       " 1500,\n",
       " 1400,\n",
       " 1300,\n",
       " 1200,\n",
       " 1100,\n",
       " 1000,\n",
       " 900,\n",
       " 800,\n",
       " 700,\n",
       " 600,\n",
       " 500,\n",
       " 400,\n",
       " 300,\n",
       " 200,\n",
       " 100,\n",
       " 0]"
      ]
     },
     "execution_count": 90,
     "metadata": {},
     "output_type": "execute_result"
    }
   ],
   "source": [
    "reverse"
   ]
  },
  {
   "cell_type": "markdown",
   "id": "a93694ce",
   "metadata": {},
   "source": [
    "# LOOPS = loops are of two types for and while loop\n",
    "             loops will go to the list and check every value and then print it "
   ]
  },
  {
   "cell_type": "code",
   "execution_count": 91,
   "id": "429f8935",
   "metadata": {},
   "outputs": [],
   "source": [
    "location = ['chennai','noida','bhiwani','sirsa','hisar']"
   ]
  },
  {
   "cell_type": "code",
   "execution_count": 92,
   "id": "eab498f1",
   "metadata": {},
   "outputs": [
    {
     "name": "stdout",
     "output_type": "stream",
     "text": [
      "chennai\n",
      "noida\n",
      "bhiwani\n",
      "sirsa\n",
      "hisar\n"
     ]
    }
   ],
   "source": [
    "for city in location:\n",
    "    print(city)"
   ]
  },
  {
   "cell_type": "code",
   "execution_count": 94,
   "id": "8e5e7997",
   "metadata": {},
   "outputs": [
    {
     "name": "stdout",
     "output_type": "stream",
     "text": [
      "45000\n",
      "34000\n",
      "65000\n",
      "78000\n"
     ]
    }
   ],
   "source": [
    "salary = [12000,45000,34000,23000,65000,78000,22000]\n",
    "for val in salary:     \n",
    "    if val >30000:\n",
    "        print(val)"
   ]
  },
  {
   "cell_type": "raw",
   "id": "b5c25501",
   "metadata": {},
   "source": [
    "#for loop will go to every value in list salary and check it if it is greater than30000 or not and then print value more than 30000 "
   ]
  },
  {
   "cell_type": "code",
   "execution_count": 95,
   "id": "852ad97d",
   "metadata": {},
   "outputs": [
    {
     "name": "stdout",
     "output_type": "stream",
     "text": [
      "------------------------------\n"
     ]
    }
   ],
   "source": [
    "print ('-' * 30 )"
   ]
  },
  {
   "cell_type": "code",
   "execution_count": null,
   "id": "f9eb98ad",
   "metadata": {},
   "outputs": [],
   "source": []
  }
 ],
 "metadata": {
  "kernelspec": {
   "display_name": "Python 3 (ipykernel)",
   "language": "python",
   "name": "python3"
  },
  "language_info": {
   "codemirror_mode": {
    "name": "ipython",
    "version": 3
   },
   "file_extension": ".py",
   "mimetype": "text/x-python",
   "name": "python",
   "nbconvert_exporter": "python",
   "pygments_lexer": "ipython3",
   "version": "3.9.13"
  }
 },
 "nbformat": 4,
 "nbformat_minor": 5
}
